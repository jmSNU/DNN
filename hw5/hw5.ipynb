{
 "cells": [
  {
   "cell_type": "markdown",
   "metadata": {},
   "source": [
    "Problem 1 : Implementation\n",
    "====="
   ]
  },
  {
   "cell_type": "code",
   "execution_count": 74,
   "metadata": {},
   "outputs": [
    {
     "name": "stdout",
     "output_type": "stream",
     "text": [
      "tensor([[2.3943e-05, 3.7064e-05, 4.2687e-06, 6.3700e-06],\n",
      "        [3.4104e-05, 5.2794e-05, 6.0804e-06, 9.0735e-06],\n",
      "        [2.4438e-05, 3.7831e-05, 4.3571e-06, 6.5019e-06],\n",
      "        [2.0187e-05, 3.1250e-05, 3.5991e-06, 5.3707e-06]])\n",
      "tensor([4.8247e-05, 6.8722e-05, 4.9245e-05, 4.0678e-05])\n",
      "\n",
      "tensor([[2.3943e-05, 3.7064e-05, 4.2687e-06, 6.3700e-06],\n",
      "        [3.4104e-05, 5.2794e-05, 6.0804e-06, 9.0735e-06],\n",
      "        [2.4438e-05, 3.7831e-05, 4.3571e-06, 6.5019e-06],\n",
      "        [2.0187e-05, 3.1250e-05, 3.5991e-06, 5.3707e-06]])\n",
      "tensor([[4.8247e-05, 6.8722e-05, 4.9245e-05, 4.0678e-05]])\n"
     ]
    }
   ],
   "source": [
    "import torch\n",
    "from torch import nn\n",
    "\n",
    "def sigma(x):\n",
    "    return torch.sigmoid(x)\n",
    "def sigma_prime(x):\n",
    "    return sigma(x)*(1-sigma(x))\n",
    "\n",
    "\n",
    "torch.manual_seed(0)\n",
    "L = 6\n",
    "X_data = torch.rand(4, 1)\n",
    "Y_data = torch.rand(1, 1)\n",
    "\n",
    "A_list,b_list = [],[]\n",
    "for _ in range(L-1):\n",
    "    A_list.append(torch.rand(4, 4))\n",
    "    b_list.append(torch.rand(4, 1))\n",
    "A_list.append(torch.rand(1, 4))\n",
    "b_list.append(torch.rand(1, 1))\n",
    "\n",
    "\n",
    "\n",
    "# # Option 1: directly use PyTorch's autograd feature\n",
    "# for A in A_list:\n",
    "#     A.requires_grad = True\n",
    "# for b in b_list:\n",
    "#     b.requires_grad = True\n",
    "    \n",
    "# y = X_data\n",
    "# for ell in range(L):\n",
    "#     S = sigma if ell<L-1 else lambda x: x\n",
    "#     y = S(A_list[ell]@y+b_list[ell])\n",
    "    \n",
    "# # backward pass in pytorch\n",
    "# loss=torch.square(y-Y_data)/2\n",
    "# loss.backward()\n",
    "\n",
    "# print(A_list[0].grad)\n",
    "\n",
    "\n",
    "# Option 2: construct a NN model and use backprop\n",
    "class MLP(nn.Module) :\n",
    "    def __init__(self) :\n",
    "        super().__init__()\n",
    "        self.linear = nn.ModuleList([nn.Linear(4,4) for _ in range(L-1)])\n",
    "        self.linear.append(nn.Linear(4,1))\n",
    "        for ell in range(L):\n",
    "            self.linear[ell].weight.data = A_list[ell]\n",
    "            self.linear[ell].bias.data = b_list[ell].squeeze()\n",
    "        \n",
    "    def forward(self, x) :\n",
    "        x = x.squeeze()\n",
    "        for ell in range(L-1):\n",
    "            x = sigma(self.linear[ell](x))\n",
    "        x = self.linear[-1](x)\n",
    "        return x\n",
    "\n",
    "model = MLP()\n",
    "            \n",
    "loss = torch.square(model(X_data)-Y_data)/2\n",
    "loss.backward()\n",
    "\n",
    "print(model.linear[0].weight.grad)\n",
    "print(model.linear[0].bias.grad)\n",
    "print()\n",
    "\n",
    "# Option 3: implement backprop yourself\n",
    "y_list = [X_data]\n",
    "y = X_data\n",
    "for ell in range(L):\n",
    "    S = sigma if ell<L-1 else lambda x: x\n",
    "    y = S(A_list[ell]@y+b_list[ell])\n",
    "    y_list.append(y)\n",
    "\n",
    "\n",
    "dA_list = []\n",
    "db_list = []\n",
    "dy = y-Y_data  # dloss/dy_L\n",
    "for ell in reversed(range(L)):\n",
    "    S = sigma_prime if ell<L-1 else lambda x: torch.ones(x.shape)\n",
    "    A, b, y = A_list[ell], b_list[ell], y_list[ell] # A = A_l, b = b_l, y_l\n",
    "\n",
    "    db = torch.mm(dy,torch.diag(S(A@y + b).flatten()))   # dloss/db_ell\n",
    "    dA = torch.mm(y, db).T   # dloss/dA_ell\n",
    "    dy = torch.mm(db, A)     # dloss/dy_{ell-1}\n",
    "    \n",
    "\n",
    "    dA_list.insert(0, dA)\n",
    "    db_list.insert(0, db)\n",
    "\n",
    "print(dA_list[0])\n",
    "print(db_list[0])\n"
   ]
  },
  {
   "cell_type": "code",
   "execution_count": 80,
   "metadata": {},
   "outputs": [
    {
     "data": {
      "text/plain": [
       "2230943744"
      ]
     },
     "execution_count": 80,
     "metadata": {},
     "output_type": "execute_result"
    }
   ],
   "source": [
    "(2*256*25-1)*96*32*32 +(2*256*9-1)*(192*32*32) + (2*256*1-1)*(128*32*32)"
   ]
  },
  {
   "cell_type": "code",
   "execution_count": null,
   "metadata": {},
   "outputs": [],
   "source": []
  }
 ],
 "metadata": {
  "kernelspec": {
   "display_name": "py311",
   "language": "python",
   "name": "python3"
  },
  "language_info": {
   "codemirror_mode": {
    "name": "ipython",
    "version": 3
   },
   "file_extension": ".py",
   "mimetype": "text/x-python",
   "name": "python",
   "nbconvert_exporter": "python",
   "pygments_lexer": "ipython3",
   "version": "3.11.7"
  }
 },
 "nbformat": 4,
 "nbformat_minor": 2
}
