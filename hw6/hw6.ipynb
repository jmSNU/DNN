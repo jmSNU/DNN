{
 "cells": [
  {
   "cell_type": "markdown",
   "metadata": {},
   "source": [
    "Problem 4\n",
    "========"
   ]
  },
  {
   "cell_type": "code",
   "execution_count": 35,
   "metadata": {},
   "outputs": [],
   "source": [
    "import torch\n",
    "import torch.nn as nn\n",
    "from torchinfo import summary\n",
    "from torchviz import make_dot\n",
    "import torch\n",
    "from torch.utils.data import Dataset,DataLoader\n",
    "from torchvision import datasets\n",
    "from torchvision.transforms import ToTensor\n",
    "import numpy as np\n"
   ]
  },
  {
   "cell_type": "code",
   "execution_count": 49,
   "metadata": {},
   "outputs": [],
   "source": [
    "class STMConvLayer(nn.Module):\n",
    "    def __init__(self):\n",
    "        super(STMConvLayer, self).__init__()\n",
    "        self.conv = nn.ModuleList()\n",
    "        for _ in range(32):\n",
    "            self.conv.append(\n",
    "                nn.Sequential(\n",
    "                    nn.Conv2d(256, 4, 1, dtype=torch.float),  # Specify dtype=torch.float\n",
    "                    nn.ReLU(),\n",
    "                    nn.Conv2d(4, 4, 3, padding=1, dtype=torch.float),  # Specify dtype=torch.float\n",
    "                    nn.ReLU(),\n",
    "                    nn.Conv2d(4, 256, 1, dtype=torch.float)  # Specify dtype=torch.float\n",
    "                )\n",
    "            )\n",
    "    def forward(self,x): # x : bathced data\n",
    "        output = torch.zeros(x.shape, dtype=torch.float)\n",
    "        for path in self.conv:\n",
    "            output += path(x.float())\n",
    "        return output"
   ]
  },
  {
   "cell_type": "code",
   "execution_count": 52,
   "metadata": {},
   "outputs": [
    {
     "data": {
      "text/plain": [
       "'STMConvLayer.png'"
      ]
     },
     "execution_count": 52,
     "metadata": {},
     "output_type": "execute_result"
    }
   ],
   "source": [
    "d = 256\n",
    "n_train = 100\n",
    "dummy_data = np.random.randn(10, 256, 3, 3)  # 10 samples, 256 channels, 3x3 spatial dimensions\n",
    "\n",
    "# Convert dummy data to PyTorch tensor\n",
    "dummy_tensor = torch.tensor(dummy_data, dtype=torch.float)\n",
    "\n",
    "# Create DataLoader with the dummy dataset\n",
    "dummy_loader = DataLoader(dummy_tensor, batch_size=1)  # Batch size 1 as we're already providing batched data\n",
    "\n",
    "batch = next(iter(dummy_loader))\n",
    "model = STMConvLayer()\n",
    "yhat = model(batch)\n",
    "make_dot(yhat, params=dict(list(model.named_parameters()))).render(\"STMConvLayer\", format=\"png\")"
   ]
  },
  {
   "cell_type": "code",
   "execution_count": 59,
   "metadata": {},
   "outputs": [
    {
     "name": "stdout",
     "output_type": "stream",
     "text": [
      "STMConvLayer(\n",
      "  (conv): ModuleList(\n",
      "    (0-31): 32 x Sequential(\n",
      "      (0): Conv2d(256, 4, kernel_size=(1, 1), stride=(1, 1))\n",
      "      (1): ReLU()\n",
      "      (2): Conv2d(4, 4, kernel_size=(3, 3), stride=(1, 1), padding=(1, 1))\n",
      "      (3): ReLU()\n",
      "      (4): Conv2d(4, 256, kernel_size=(1, 1), stride=(1, 1))\n",
      "    )\n",
      "  )\n",
      ")\n"
     ]
    }
   ],
   "source": [
    "print(model)"
   ]
  },
  {
   "cell_type": "markdown",
   "metadata": {},
   "source": [
    "Problem 5\n",
    "====="
   ]
  },
  {
   "cell_type": "code",
   "execution_count": null,
   "metadata": {},
   "outputs": [],
   "source": [
    "import matplotlib.pyplot as plt \n",
    "import numpy as np \n",
    "\n",
    "\n",
    "\"\"\"\n",
    "Step 1 : Generate Toy data\n",
    "\"\"\"\n",
    "\n",
    "d = 35\n",
    "n_train, n_val, n_test = 300, 60, 30\n",
    "np.random.seed(0)\n",
    "beta = np.random.randn(d)\n",
    "beta_true = beta / np.linalg.norm(beta)\n",
    "# Generate and fix training data\n",
    "X_train = np.array([np.random.multivariate_normal(np.zeros(d), np.identity(d)) for _ in range(n_train)])\n",
    "Y_train = X_train @ beta_true + np.random.normal(loc = 0.0, scale = 0.5, size = n_train)\n",
    "# Generate and fix validation data (for tuning lambda). \n",
    "X_val = np.array([np.random.multivariate_normal(np.zeros(d), np.identity(d)) for _ in range(n_val)])\n",
    "Y_val = X_val @ beta_true \n",
    "# Generate and fix test data\n",
    "X_test = np.array([np.random.multivariate_normal(np.zeros(d), np.identity(d)) for _ in range(n_test)])\n",
    "Y_test = X_test @ beta_true \n",
    "\n",
    "\n",
    "\"\"\"\n",
    "Step 2 : Solve the problem\n",
    "\"\"\"    \n",
    "\n",
    "\n",
    "lambda_list = [2 ** i for i in range(-6, 6)]\n",
    "num_params = np.arange(1,1501,10)\n",
    "\n",
    "errors_opt_lambda = []\n",
    "errors_fixed_lambda = []\n",
    "for p in num_params : \n",
    "    pass\n",
    "\n",
    "\"\"\"\n",
    "Step 3 : Plot the results\n",
    "\"\"\"    \n",
    "\n",
    "plt.figure(figsize = (24, 8))\n",
    "plt.rc('text', usetex = True)\n",
    "plt.rc('font', family = 'serif')\n",
    "plt.rc('font', size = 24)\n",
    "\n",
    "\n",
    "plt.scatter(num_params, errors_fixed_lambda, color = 'black',\n",
    "            label = r\"Test error with fixed $\\lambda = 0.01$\",\n",
    "            ) \n",
    "plt.legend()\n",
    "\n",
    "plt.plot(num_params, errors_opt_lambda, 'k', label = r\"Test error with tuned $\\lambda$\")\n",
    "plt.legend()\n",
    "plt.xlabel(r'$\\#$ parameters')\n",
    "plt.ylabel('Test error')\n",
    "plt.title(r'Test error vs. $\\#$ params')\n",
    "\n",
    "plt.savefig('double_descent.png')\n",
    "plt.show()"
   ]
  }
 ],
 "metadata": {
  "kernelspec": {
   "display_name": "py311",
   "language": "python",
   "name": "python3"
  },
  "language_info": {
   "codemirror_mode": {
    "name": "ipython",
    "version": 3
   },
   "file_extension": ".py",
   "mimetype": "text/x-python",
   "name": "python",
   "nbconvert_exporter": "python",
   "pygments_lexer": "ipython3",
   "version": "3.11.7"
  }
 },
 "nbformat": 4,
 "nbformat_minor": 2
}
