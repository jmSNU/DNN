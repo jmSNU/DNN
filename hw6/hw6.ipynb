{
 "cells": [
  {
   "cell_type": "markdown",
   "metadata": {},
   "source": [
    "Problem 4\n",
    "========"
   ]
  },
  {
   "cell_type": "code",
   "execution_count": 35,
   "metadata": {},
   "outputs": [],
   "source": [
    "import torch\n",
    "import torch.nn as nn\n",
    "from torchinfo import summary\n",
    "from torchviz import make_dot\n",
    "import torch\n",
    "from torch.utils.data import Dataset,DataLoader\n",
    "from torchvision import datasets\n",
    "from torchvision.transforms import ToTensor\n",
    "import numpy as np\n"
   ]
  },
  {
   "cell_type": "code",
   "execution_count": 49,
   "metadata": {},
   "outputs": [],
   "source": [
    "class STMConvLayer(nn.Module):\n",
    "    def __init__(self):\n",
    "        super(STMConvLayer, self).__init__()\n",
    "        self.conv = nn.ModuleList()\n",
    "        for _ in range(32):\n",
    "            self.conv.append(\n",
    "                nn.Sequential(\n",
    "                    nn.Conv2d(256, 4, 1, dtype=torch.float),  # Specify dtype=torch.float\n",
    "                    nn.ReLU(),\n",
    "                    nn.Conv2d(4, 4, 3, padding=1, dtype=torch.float),  # Specify dtype=torch.float\n",
    "                    nn.ReLU(),\n",
    "                    nn.Conv2d(4, 256, 1, dtype=torch.float)  # Specify dtype=torch.float\n",
    "                )\n",
    "            )\n",
    "    def forward(self,x): # x : bathced data\n",
    "        output = torch.zeros(x.shape, dtype=torch.float)\n",
    "        for path in self.conv:\n",
    "            output += path(x.float())\n",
    "        return output"
   ]
  },
  {
   "cell_type": "code",
   "execution_count": 52,
   "metadata": {},
   "outputs": [
    {
     "data": {
      "text/plain": [
       "'STMConvLayer.png'"
      ]
     },
     "execution_count": 52,
     "metadata": {},
     "output_type": "execute_result"
    }
   ],
   "source": [
    "d = 256\n",
    "n_train = 100\n",
    "dummy_data = np.random.randn(10, 256, 3, 3)  # 10 samples, 256 channels, 3x3 spatial dimensions\n",
    "\n",
    "# Convert dummy data to PyTorch tensor\n",
    "dummy_tensor = torch.tensor(dummy_data, dtype=torch.float)\n",
    "\n",
    "# Create DataLoader with the dummy dataset\n",
    "dummy_loader = DataLoader(dummy_tensor, batch_size=1)  # Batch size 1 as we're already providing batched data\n",
    "\n",
    "batch = next(iter(dummy_loader))\n",
    "model = STMConvLayer()\n",
    "yhat = model(batch)\n",
    "make_dot(yhat, params=dict(list(model.named_parameters()))).render(\"STMConvLayer\", format=\"png\")"
   ]
  },
  {
   "cell_type": "code",
   "execution_count": 59,
   "metadata": {},
   "outputs": [
    {
     "name": "stdout",
     "output_type": "stream",
     "text": [
      "STMConvLayer(\n",
      "  (conv): ModuleList(\n",
      "    (0-31): 32 x Sequential(\n",
      "      (0): Conv2d(256, 4, kernel_size=(1, 1), stride=(1, 1))\n",
      "      (1): ReLU()\n",
      "      (2): Conv2d(4, 4, kernel_size=(3, 3), stride=(1, 1), padding=(1, 1))\n",
      "      (3): ReLU()\n",
      "      (4): Conv2d(4, 256, kernel_size=(1, 1), stride=(1, 1))\n",
      "    )\n",
      "  )\n",
      ")\n"
     ]
    }
   ],
   "source": [
    "print(model)"
   ]
  },
  {
   "cell_type": "markdown",
   "metadata": {},
   "source": [
    "Problem 5\n",
    "====="
   ]
  },
  {
   "cell_type": "code",
   "execution_count": 104,
   "metadata": {},
   "outputs": [
    {
     "ename": "LinAlgError",
     "evalue": "SVD did not converge",
     "output_type": "error",
     "traceback": [
      "\u001b[0;31m---------------------------------------------------------------------------\u001b[0m",
      "\u001b[0;31mLinAlgError\u001b[0m                               Traceback (most recent call last)",
      "Cell \u001b[0;32mIn[104], line 41\u001b[0m\n\u001b[1;32m     39\u001b[0m phi_test \u001b[38;5;241m=\u001b[39m Relu(X_test \u001b[38;5;241m@\u001b[39m W\u001b[38;5;241m.\u001b[39mT)\n\u001b[1;32m     40\u001b[0m phi_gram \u001b[38;5;241m=\u001b[39m phi\u001b[38;5;241m.\u001b[39mT \u001b[38;5;241m@\u001b[39m phi\n\u001b[0;32m---> 41\u001b[0m lambda_opt \u001b[38;5;241m=\u001b[39m \u001b[38;5;28;43mmin\u001b[39;49m\u001b[43m(\u001b[49m\u001b[43mlambda_list\u001b[49m\u001b[43m,\u001b[49m\u001b[43m \u001b[49m\u001b[43mkey\u001b[49m\u001b[43m \u001b[49m\u001b[38;5;241;43m=\u001b[39;49m\u001b[43m \u001b[49m\u001b[38;5;28;43;01mlambda\u001b[39;49;00m\u001b[43m \u001b[49m\u001b[43mlamb\u001b[49m\u001b[43m \u001b[49m\u001b[43m:\u001b[49m\u001b[43m \u001b[49m\u001b[43mnp\u001b[49m\u001b[38;5;241;43m.\u001b[39;49m\u001b[43mlinalg\u001b[49m\u001b[38;5;241;43m.\u001b[39;49m\u001b[43mnorm\u001b[49m\u001b[43m(\u001b[49m\u001b[43mY_val\u001b[49m\u001b[43m \u001b[49m\u001b[38;5;241;43m-\u001b[39;49m\u001b[43m \u001b[49m\u001b[43mphi_val\u001b[49m\u001b[43m \u001b[49m\u001b[38;5;241;43m@\u001b[39;49m\u001b[43m \u001b[49m\u001b[43mnp\u001b[49m\u001b[38;5;241;43m.\u001b[39;49m\u001b[43mlinalg\u001b[49m\u001b[38;5;241;43m.\u001b[39;49m\u001b[43mpinv\u001b[49m\u001b[43m(\u001b[49m\u001b[43mphi_gram\u001b[49m\u001b[43m \u001b[49m\u001b[38;5;241;43m+\u001b[39;49m\u001b[43m \u001b[49m\u001b[43mlamb\u001b[49m\u001b[43m \u001b[49m\u001b[38;5;241;43m*\u001b[39;49m\u001b[43m \u001b[49m\u001b[43mnp\u001b[49m\u001b[38;5;241;43m.\u001b[39;49m\u001b[43meye\u001b[49m\u001b[43m(\u001b[49m\u001b[43mp\u001b[49m\u001b[43m)\u001b[49m\u001b[43m)\u001b[49m\u001b[43m \u001b[49m\u001b[38;5;241;43m@\u001b[39;49m\u001b[43m \u001b[49m\u001b[43mphi_val\u001b[49m\u001b[38;5;241;43m.\u001b[39;49m\u001b[43mT\u001b[49m\u001b[43m \u001b[49m\u001b[38;5;241;43m@\u001b[39;49m\u001b[43m \u001b[49m\u001b[43mY_val\u001b[49m\u001b[43m)\u001b[49m\u001b[43m)\u001b[49m\n\u001b[1;32m     43\u001b[0m theta_fixed \u001b[38;5;241m=\u001b[39m np\u001b[38;5;241m.\u001b[39mlinalg\u001b[38;5;241m.\u001b[39mpinv(phi_gram \u001b[38;5;241m+\u001b[39m \u001b[38;5;241m0.01\u001b[39m \u001b[38;5;241m*\u001b[39m np\u001b[38;5;241m.\u001b[39meye(p)) \u001b[38;5;241m@\u001b[39m phi\u001b[38;5;241m.\u001b[39mT \u001b[38;5;241m@\u001b[39m Y_train\n\u001b[1;32m     44\u001b[0m theta_opt \u001b[38;5;241m=\u001b[39m np\u001b[38;5;241m.\u001b[39mlinalg\u001b[38;5;241m.\u001b[39mpinv(phi_gram \u001b[38;5;241m+\u001b[39m lambda_opt \u001b[38;5;241m*\u001b[39m np\u001b[38;5;241m.\u001b[39meye(p)) \u001b[38;5;241m@\u001b[39m phi\u001b[38;5;241m.\u001b[39mT \u001b[38;5;241m@\u001b[39m Y_train\n",
      "Cell \u001b[0;32mIn[104], line 41\u001b[0m, in \u001b[0;36m<lambda>\u001b[0;34m(lamb)\u001b[0m\n\u001b[1;32m     39\u001b[0m phi_test \u001b[38;5;241m=\u001b[39m Relu(X_test \u001b[38;5;241m@\u001b[39m W\u001b[38;5;241m.\u001b[39mT)\n\u001b[1;32m     40\u001b[0m phi_gram \u001b[38;5;241m=\u001b[39m phi\u001b[38;5;241m.\u001b[39mT \u001b[38;5;241m@\u001b[39m phi\n\u001b[0;32m---> 41\u001b[0m lambda_opt \u001b[38;5;241m=\u001b[39m \u001b[38;5;28mmin\u001b[39m(lambda_list, key \u001b[38;5;241m=\u001b[39m \u001b[38;5;28;01mlambda\u001b[39;00m lamb : np\u001b[38;5;241m.\u001b[39mlinalg\u001b[38;5;241m.\u001b[39mnorm(Y_val \u001b[38;5;241m-\u001b[39m phi_val \u001b[38;5;241m@\u001b[39m \u001b[43mnp\u001b[49m\u001b[38;5;241;43m.\u001b[39;49m\u001b[43mlinalg\u001b[49m\u001b[38;5;241;43m.\u001b[39;49m\u001b[43mpinv\u001b[49m\u001b[43m(\u001b[49m\u001b[43mphi_gram\u001b[49m\u001b[43m \u001b[49m\u001b[38;5;241;43m+\u001b[39;49m\u001b[43m \u001b[49m\u001b[43mlamb\u001b[49m\u001b[43m \u001b[49m\u001b[38;5;241;43m*\u001b[39;49m\u001b[43m \u001b[49m\u001b[43mnp\u001b[49m\u001b[38;5;241;43m.\u001b[39;49m\u001b[43meye\u001b[49m\u001b[43m(\u001b[49m\u001b[43mp\u001b[49m\u001b[43m)\u001b[49m\u001b[43m)\u001b[49m \u001b[38;5;241m@\u001b[39m phi_val\u001b[38;5;241m.\u001b[39mT \u001b[38;5;241m@\u001b[39m Y_val))\n\u001b[1;32m     43\u001b[0m theta_fixed \u001b[38;5;241m=\u001b[39m np\u001b[38;5;241m.\u001b[39mlinalg\u001b[38;5;241m.\u001b[39mpinv(phi_gram \u001b[38;5;241m+\u001b[39m \u001b[38;5;241m0.01\u001b[39m \u001b[38;5;241m*\u001b[39m np\u001b[38;5;241m.\u001b[39meye(p)) \u001b[38;5;241m@\u001b[39m phi\u001b[38;5;241m.\u001b[39mT \u001b[38;5;241m@\u001b[39m Y_train\n\u001b[1;32m     44\u001b[0m theta_opt \u001b[38;5;241m=\u001b[39m np\u001b[38;5;241m.\u001b[39mlinalg\u001b[38;5;241m.\u001b[39mpinv(phi_gram \u001b[38;5;241m+\u001b[39m lambda_opt \u001b[38;5;241m*\u001b[39m np\u001b[38;5;241m.\u001b[39meye(p)) \u001b[38;5;241m@\u001b[39m phi\u001b[38;5;241m.\u001b[39mT \u001b[38;5;241m@\u001b[39m Y_train\n",
      "File \u001b[0;32m<__array_function__ internals>:200\u001b[0m, in \u001b[0;36mpinv\u001b[0;34m(*args, **kwargs)\u001b[0m\n",
      "File \u001b[0;32m~/miniforge3/envs/py311/lib/python3.11/site-packages/numpy/linalg/linalg.py:1983\u001b[0m, in \u001b[0;36mpinv\u001b[0;34m(a, rcond, hermitian)\u001b[0m\n\u001b[1;32m   1981\u001b[0m     \u001b[38;5;28;01mreturn\u001b[39;00m wrap(res)\n\u001b[1;32m   1982\u001b[0m a \u001b[38;5;241m=\u001b[39m a\u001b[38;5;241m.\u001b[39mconjugate()\n\u001b[0;32m-> 1983\u001b[0m u, s, vt \u001b[38;5;241m=\u001b[39m \u001b[43msvd\u001b[49m\u001b[43m(\u001b[49m\u001b[43ma\u001b[49m\u001b[43m,\u001b[49m\u001b[43m \u001b[49m\u001b[43mfull_matrices\u001b[49m\u001b[38;5;241;43m=\u001b[39;49m\u001b[38;5;28;43;01mFalse\u001b[39;49;00m\u001b[43m,\u001b[49m\u001b[43m \u001b[49m\u001b[43mhermitian\u001b[49m\u001b[38;5;241;43m=\u001b[39;49m\u001b[43mhermitian\u001b[49m\u001b[43m)\u001b[49m\n\u001b[1;32m   1985\u001b[0m \u001b[38;5;66;03m# discard small singular values\u001b[39;00m\n\u001b[1;32m   1986\u001b[0m cutoff \u001b[38;5;241m=\u001b[39m rcond[\u001b[38;5;241m.\u001b[39m\u001b[38;5;241m.\u001b[39m\u001b[38;5;241m.\u001b[39m, newaxis] \u001b[38;5;241m*\u001b[39m amax(s, axis\u001b[38;5;241m=\u001b[39m\u001b[38;5;241m-\u001b[39m\u001b[38;5;241m1\u001b[39m, keepdims\u001b[38;5;241m=\u001b[39m\u001b[38;5;28;01mTrue\u001b[39;00m)\n",
      "File \u001b[0;32m<__array_function__ internals>:200\u001b[0m, in \u001b[0;36msvd\u001b[0;34m(*args, **kwargs)\u001b[0m\n",
      "File \u001b[0;32m~/miniforge3/envs/py311/lib/python3.11/site-packages/numpy/linalg/linalg.py:1642\u001b[0m, in \u001b[0;36msvd\u001b[0;34m(a, full_matrices, compute_uv, hermitian)\u001b[0m\n\u001b[1;32m   1639\u001b[0m         gufunc \u001b[38;5;241m=\u001b[39m _umath_linalg\u001b[38;5;241m.\u001b[39msvd_n_s\n\u001b[1;32m   1641\u001b[0m signature \u001b[38;5;241m=\u001b[39m \u001b[38;5;124m'\u001b[39m\u001b[38;5;124mD->DdD\u001b[39m\u001b[38;5;124m'\u001b[39m \u001b[38;5;28;01mif\u001b[39;00m isComplexType(t) \u001b[38;5;28;01melse\u001b[39;00m \u001b[38;5;124m'\u001b[39m\u001b[38;5;124md->ddd\u001b[39m\u001b[38;5;124m'\u001b[39m\n\u001b[0;32m-> 1642\u001b[0m u, s, vh \u001b[38;5;241m=\u001b[39m \u001b[43mgufunc\u001b[49m\u001b[43m(\u001b[49m\u001b[43ma\u001b[49m\u001b[43m,\u001b[49m\u001b[43m \u001b[49m\u001b[43msignature\u001b[49m\u001b[38;5;241;43m=\u001b[39;49m\u001b[43msignature\u001b[49m\u001b[43m,\u001b[49m\u001b[43m \u001b[49m\u001b[43mextobj\u001b[49m\u001b[38;5;241;43m=\u001b[39;49m\u001b[43mextobj\u001b[49m\u001b[43m)\u001b[49m\n\u001b[1;32m   1643\u001b[0m u \u001b[38;5;241m=\u001b[39m u\u001b[38;5;241m.\u001b[39mastype(result_t, copy\u001b[38;5;241m=\u001b[39m\u001b[38;5;28;01mFalse\u001b[39;00m)\n\u001b[1;32m   1644\u001b[0m s \u001b[38;5;241m=\u001b[39m s\u001b[38;5;241m.\u001b[39mastype(_realType(result_t), copy\u001b[38;5;241m=\u001b[39m\u001b[38;5;28;01mFalse\u001b[39;00m)\n",
      "File \u001b[0;32m~/miniforge3/envs/py311/lib/python3.11/site-packages/numpy/linalg/linalg.py:98\u001b[0m, in \u001b[0;36m_raise_linalgerror_svd_nonconvergence\u001b[0;34m(err, flag)\u001b[0m\n\u001b[1;32m     97\u001b[0m \u001b[38;5;28;01mdef\u001b[39;00m \u001b[38;5;21m_raise_linalgerror_svd_nonconvergence\u001b[39m(err, flag):\n\u001b[0;32m---> 98\u001b[0m     \u001b[38;5;28;01mraise\u001b[39;00m LinAlgError(\u001b[38;5;124m\"\u001b[39m\u001b[38;5;124mSVD did not converge\u001b[39m\u001b[38;5;124m\"\u001b[39m)\n",
      "\u001b[0;31mLinAlgError\u001b[0m: SVD did not converge"
     ]
    }
   ],
   "source": [
    "import matplotlib.pyplot as plt \n",
    "import numpy as np \n",
    "\n",
    "\n",
    "\"\"\"\n",
    "Step 1 : Generate Toy data\n",
    "\"\"\"\n",
    "\n",
    "d = 35\n",
    "n_train, n_val, n_test = 300, 60, 30\n",
    "np.random.seed(0)\n",
    "beta = np.random.randn(d)\n",
    "beta_true = beta / np.linalg.norm(beta)\n",
    "# Generate and fix training data\n",
    "X_train = np.array([np.random.multivariate_normal(np.zeros(d), np.identity(d)) for _ in range(n_train)])\n",
    "Y_train = X_train @ beta_true + np.random.normal(loc = 0.0, scale = 0.5, size = n_train)\n",
    "# Generate and fix validation data (for tuning lambda). \n",
    "X_val = np.array([np.random.multivariate_normal(np.zeros(d), np.identity(d)) for _ in range(n_val)])\n",
    "Y_val = X_val @ beta_true \n",
    "# Generate and fix test data\n",
    "X_test = np.array([np.random.multivariate_normal(np.zeros(d), np.identity(d)) for _ in range(n_test)])\n",
    "Y_test = X_test @ beta_true \n",
    "\n",
    "\n",
    "\"\"\"\n",
    "Step 2 : Solve the problem\n",
    "\"\"\"    \n",
    "    \n",
    "lambda_list = [2 ** i for i in range(-6, 6)]\n",
    "num_params = np.arange(1,1501,10)\n",
    "\n",
    "errors_opt_lambda = []\n",
    "errors_fixed_lambda = []\n",
    "for p in num_params : \n",
    "    W = np.random.normal(0, 1/p, (p, d))\n",
    "    Relu = np.vectorize(lambda z: np.fmax(0,z))\n",
    "    phi = Relu(X_train @ W.T)\n",
    "    phi_val = Relu(X_val @ W.T)\n",
    "    phi_test = Relu(X_test @ W.T)\n",
    "    lambda_opt = min(lambda_list, key = lambda lamb : np.linalg.norm(Y_val - phi_val @ np.linalg.pinv(phi_val.T @ phi_val + lamb * np.eye(p)) @ phi_val.T @ Y_val))\n",
    "    \n",
    "    theta_fixed = np.linalg.pinv(phi.T @ phi + 0.01 * np.eye(p)) @ phi.T @ Y_train\n",
    "    theta_opt = np.linalg.pinv(phi.T @ phi + lambda_opt * np.eye(p)) @ phi.T @ Y_train\n",
    "    \n",
    "    Y_test_pred_fixed = phi_test @ theta_fixed\n",
    "    Y_test_pred_opt = phi_test @ theta_opt\n",
    "    \n",
    "    errors_fixed_lambda.append(((Y_test-Y_test_pred_fixed)**2).mean())\n",
    "    errors_opt_lambda.append(((Y_test-Y_test_pred_opt)**2).mean())\n",
    "\"\"\"\n",
    "Step 3 : Plot the results\n",
    "\"\"\"    \n",
    "\n",
    "plt.figure(figsize = (24, 8))\n",
    "plt.rc('text', usetex = True)\n",
    "plt.rc('font', family = 'serif')\n",
    "plt.rc('font', size = 24)\n",
    "\n",
    "\n",
    "plt.scatter(num_params, errors_fixed_lambda, color = 'black',\n",
    "            label = r\"Test error with fixed $\\lambda = 0.01$\",\n",
    "            ) \n",
    "plt.legend()\n",
    "\n",
    "plt.plot(num_params, errors_opt_lambda, 'k', label = r\"Test error with tuned $\\lambda$\")\n",
    "plt.legend()\n",
    "plt.xlabel(r'$\\#$ parameters')\n",
    "plt.ylabel('Test error')\n",
    "plt.title(r'Test error vs. $\\#$ params')\n",
    "\n",
    "plt.savefig('double_descent.png')\n",
    "plt.show()"
   ]
  },
  {
   "cell_type": "code",
   "execution_count": null,
   "metadata": {},
   "outputs": [],
   "source": []
  }
 ],
 "metadata": {
  "kernelspec": {
   "display_name": "py311",
   "language": "python",
   "name": "python3"
  },
  "language_info": {
   "codemirror_mode": {
    "name": "ipython",
    "version": 3
   },
   "file_extension": ".py",
   "mimetype": "text/x-python",
   "name": "python",
   "nbconvert_exporter": "python",
   "pygments_lexer": "ipython3",
   "version": "3.11.7"
  }
 },
 "nbformat": 4,
 "nbformat_minor": 2
}
